{
 "cells": [
  {
   "cell_type": "code",
   "execution_count": 5,
   "metadata": {},
   "outputs": [],
   "source": [
    "class User:\n",
    "    '''Creating users doing the transaction'''\n",
    "    \n",
    "    global common_pool      # adding connections to dictionary to keep track of money txns btw them\n",
    "    common_pool = {}\n",
    "    \n",
    "    def __init__(self,name):\n",
    "        '''initiate users setting their record in common pool {user:{connection1:amount1, connection2:amount2,..}}'''\n",
    "        \n",
    "        self.name = name\n",
    "        if self.name not in common_pool.keys():\n",
    "            common_pool[self.name] = {}\n",
    "    \n",
    "    def add_to_common_pool(self,user):\n",
    "        '''when user1 pays to user2, create record of user2 in common_pool'''\n",
    "        \n",
    "        if user not in common_pool.keys():\n",
    "            common_pool[user] = {}\n",
    "    \n",
    "    def add_connection(self,user):\n",
    "        \n",
    "        if user not in common_pool[self.name].keys():\n",
    "            common_pool[self.name][user] = 0.0\n",
    "    \n",
    "    def create_txn(self,user,amount):\n",
    "        '''when user1 pays to user2, create record of user2 in common_pool'''\n",
    "        \n",
    "        self.add_to_common_pool(user)\n",
    "        common_pool[user][self.name] = -amount\n",
    "        \n",
    "    \n",
    "    def paid_by_user(self,txn,amount,*args):\n",
    "        \"\"\"User pays to other user(s) fully or share the amount with them\"\"\"\n",
    "        \n",
    "        if txn == 'share':\n",
    "            total_users = len(args)+1\n",
    "            for user in args:\n",
    "                self.add_connection(user)\n",
    "                common_pool[self.name][user] += (amount/total_users)\n",
    "                self.create_txn(user,common_pool[self.name][user])\n",
    "            \n",
    "        else:\n",
    "            user = args[0]   # user 1 is paying to another user directly\n",
    "            self.add_connection(user)\n",
    "            common_pool[self.name][user] += amount\n",
    "            self.create_txn(user,common_pool[self.name][user])\n",
    "    \n",
    "    def passbook(self):\n",
    "        \"\"\"Net amount to pay or recieve\"\"\"\n",
    "        \n",
    "        for user,connection in common_pool.items():\n",
    "            if self.name in user:\n",
    "                for user_connected,amount in connection.items():\n",
    "                    if amount < 0.0:\n",
    "                        print('{} has to pay {} to {}'.format(user,abs(amount),user_connected))\n",
    "                    else:\n",
    "                        print('{} will recieve {} from {}'.format(user,abs(amount),user_connected))"
   ]
  },
  {
   "cell_type": "code",
   "execution_count": 6,
   "metadata": {},
   "outputs": [],
   "source": [
    "vivek=User('vivek')"
   ]
  },
  {
   "cell_type": "code",
   "execution_count": 7,
   "metadata": {},
   "outputs": [],
   "source": [
    "vivek.paid_by_user('share',5000,'ravi','rajeev')"
   ]
  },
  {
   "cell_type": "code",
   "execution_count": 8,
   "metadata": {},
   "outputs": [
    {
     "name": "stdout",
     "output_type": "stream",
     "text": [
      "vivek will recieve 1666.6666666666667 from ravi\n",
      "vivek will recieve 1666.6666666666667 from rajeev\n"
     ]
    }
   ],
   "source": [
    "vivek.passbook()"
   ]
  },
  {
   "cell_type": "code",
   "execution_count": 9,
   "metadata": {},
   "outputs": [],
   "source": [
    "vivek.paid_by_user('full',200,'ravi')"
   ]
  },
  {
   "cell_type": "code",
   "execution_count": 12,
   "metadata": {},
   "outputs": [
    {
     "data": {
      "text/plain": [
       "{'rajeev': {'vivek': -1666.6666666666667},\n",
       " 'ravi': {'vivek': -1866.6666666666667},\n",
       " 'vivek': {'rajeev': 1666.6666666666667, 'ravi': 1866.6666666666667}}"
      ]
     },
     "execution_count": 12,
     "metadata": {},
     "output_type": "execute_result"
    }
   ],
   "source": [
    "common_pool"
   ]
  },
  {
   "cell_type": "code",
   "execution_count": 13,
   "metadata": {},
   "outputs": [],
   "source": [
    "ravi=User('ravi')"
   ]
  },
  {
   "cell_type": "code",
   "execution_count": 15,
   "metadata": {},
   "outputs": [
    {
     "data": {
      "text/plain": [
       "{'rajeev': {'vivek': -1666.6666666666667},\n",
       " 'ravi': {'vivek': -1866.6666666666667},\n",
       " 'vivek': {'rajeev': 1666.6666666666667, 'ravi': 1866.6666666666667}}"
      ]
     },
     "execution_count": 15,
     "metadata": {},
     "output_type": "execute_result"
    }
   ],
   "source": [
    "common_pool"
   ]
  },
  {
   "cell_type": "code",
   "execution_count": 16,
   "metadata": {},
   "outputs": [],
   "source": [
    "ravi.paid_by_user('share',700,'vivek','rajeev','gopi','sanjeev')"
   ]
  },
  {
   "cell_type": "code",
   "execution_count": 17,
   "metadata": {},
   "outputs": [
    {
     "data": {
      "text/plain": [
       "{'gopi': {'ravi': -140.0},\n",
       " 'rajeev': {'ravi': -140.0, 'vivek': -1666.6666666666667},\n",
       " 'ravi': {'gopi': 140.0,\n",
       "  'rajeev': 140.0,\n",
       "  'sanjeev': 140.0,\n",
       "  'vivek': -1726.6666666666667},\n",
       " 'sanjeev': {'ravi': -140.0},\n",
       " 'vivek': {'rajeev': 1666.6666666666667, 'ravi': 1726.6666666666667}}"
      ]
     },
     "execution_count": 17,
     "metadata": {},
     "output_type": "execute_result"
    }
   ],
   "source": [
    "common_pool"
   ]
  },
  {
   "cell_type": "code",
   "execution_count": 18,
   "metadata": {},
   "outputs": [
    {
     "name": "stdout",
     "output_type": "stream",
     "text": [
      "vivek will recieve 1726.6666666666667 from ravi\n",
      "vivek will recieve 1666.6666666666667 from rajeev\n"
     ]
    }
   ],
   "source": [
    "vivek.passbook()"
   ]
  },
  {
   "cell_type": "code",
   "execution_count": 19,
   "metadata": {},
   "outputs": [
    {
     "name": "stdout",
     "output_type": "stream",
     "text": [
      "ravi has to pay 1726.6666666666667 to vivek\n",
      "ravi will recieve 140.0 from rajeev\n",
      "ravi will recieve 140.0 from gopi\n",
      "ravi will recieve 140.0 from sanjeev\n"
     ]
    }
   ],
   "source": [
    "ravi.passbook()"
   ]
  },
  {
   "cell_type": "code",
   "execution_count": 20,
   "metadata": {},
   "outputs": [],
   "source": [
    "vivek.paid_by_user('share',1200,'Ganguly')"
   ]
  },
  {
   "cell_type": "code",
   "execution_count": 21,
   "metadata": {},
   "outputs": [
    {
     "name": "stdout",
     "output_type": "stream",
     "text": [
      "vivek will recieve 1726.6666666666667 from ravi\n",
      "vivek will recieve 1666.6666666666667 from rajeev\n",
      "vivek will recieve 600.0 from Ganguly\n"
     ]
    }
   ],
   "source": [
    "vivek.passbook()"
   ]
  }
 ],
 "metadata": {
  "kernelspec": {
   "display_name": "Python 3",
   "language": "python",
   "name": "python3"
  },
  "language_info": {
   "codemirror_mode": {
    "name": "ipython",
    "version": 3
   },
   "file_extension": ".py",
   "mimetype": "text/x-python",
   "name": "python",
   "nbconvert_exporter": "python",
   "pygments_lexer": "ipython3",
   "version": "3.6.3"
  }
 },
 "nbformat": 4,
 "nbformat_minor": 2
}
